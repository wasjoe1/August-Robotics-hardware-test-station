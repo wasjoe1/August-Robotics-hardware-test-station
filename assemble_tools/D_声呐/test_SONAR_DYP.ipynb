{
 "cells": [
  {
   "cell_type": "code",
   "execution_count": 1,
   "metadata": {},
   "outputs": [],
   "source": [
    "%load_ext autoreload\n",
    "%autoreload 2\n",
    "%matplotlib inline"
   ]
  },
  {
   "cell_type": "code",
   "execution_count": 16,
   "metadata": {},
   "outputs": [],
   "source": [
    "import time"
   ]
  },
  {
   "cell_type": "code",
   "execution_count": 2,
   "metadata": {},
   "outputs": [],
   "source": [
    "import rospy\n",
    "import numpy as np\n",
    "import matplotlib.pyplot as plt\n",
    "rospy.init_node(\"test_wit_encoder\")"
   ]
  },
  {
   "cell_type": "code",
   "execution_count": 1,
   "metadata": {},
   "outputs": [],
   "source": [
    "from boothbot_driver.modbus_driver import ModbusDriver"
   ]
  },
  {
   "cell_type": "code",
   "execution_count": 64,
   "metadata": {},
   "outputs": [
    {
     "data": {
      "text/plain": [
       "pymodbus.exceptions.ModbusIOException(pymodbus.exceptions.InvalidMessageReceivedException('No response received, expected at least 2 bytes (0 received)'),\n",
       "                                      6)"
      ]
     },
     "execution_count": 64,
     "metadata": {},
     "output_type": "execute_result"
    }
   ],
   "source": [
    "modbus_config = {\n",
    "    \"port\": \"/dev/ttyUSB0\",\n",
    "    \"baudrate\": 9600,\n",
    "    \"parity\": \"N\",\n",
    "    \"timeout\": 0.5,\n",
    "}\n",
    "mbd = ModbusDriver(**modbus_config).client\n",
    "#mbd.write_register(0x201, 9, unit=0xFF)\n"
   ]
  },
  {
   "cell_type": "code",
   "execution_count": 2,
   "metadata": {},
   "outputs": [],
   "source": [
    "modbus_config = {\n",
    "    \"port\": \"/dev/ttyUSB0\",\n",
    "    \"baudrate\": 115200,\n",
    "    \"parity\": \"N\",\n",
    "    \"timeout\": 0.5,\n",
    "}\n",
    "mbd = ModbusDriver(**modbus_config).client"
   ]
  },
  {
   "cell_type": "code",
   "execution_count": 3,
   "metadata": {},
   "outputs": [
    {
     "ename": "NameError",
     "evalue": "name 'mbd' is not defined",
     "output_type": "error",
     "traceback": [
      "\u001b[0;31m---------------------------------------------------------------------------\u001b[0m",
      "\u001b[0;31mNameError\u001b[0m                                 Traceback (most recent call last)",
      "Cell \u001b[0;32mIn [3], line 1\u001b[0m\n\u001b[0;32m----> 1\u001b[0m \u001b[43mmbd\u001b[49m\u001b[38;5;241m.\u001b[39mwrite_register(\u001b[38;5;241m0x201\u001b[39m, \u001b[38;5;241m3\u001b[39m, unit\u001b[38;5;241m=\u001b[39m\u001b[38;5;241m254\u001b[39m)\n",
      "\u001b[0;31mNameError\u001b[0m: name 'mbd' is not defined"
     ]
    }
   ],
   "source": [
    "mbd.write_register(0x201, 3, unit=254)"
   ]
  },
  {
   "cell_type": "code",
   "execution_count": 12,
   "metadata": {},
   "outputs": [
    {
     "ename": "AttributeError",
     "evalue": "'ModbusIOException' object has no attribute 'registers'",
     "output_type": "error",
     "traceback": [
      "\u001b[0;31m---------------------------------------------------------------------------\u001b[0m",
      "\u001b[0;31mAttributeError\u001b[0m                            Traceback (most recent call last)",
      "Cell \u001b[0;32mIn [12], line 2\u001b[0m\n\u001b[1;32m      1\u001b[0m response\u001b[38;5;241m=\u001b[39mmbd\u001b[38;5;241m.\u001b[39mread_holding_registers(\u001b[38;5;241m0x201\u001b[39m, \u001b[38;5;241m1\u001b[39m, unit\u001b[38;5;241m=\u001b[39m\u001b[38;5;241m228\u001b[39m)  \n\u001b[0;32m----> 2\u001b[0m rate \u001b[38;5;241m=\u001b[39m \u001b[43mresponse\u001b[49m\u001b[38;5;241;43m.\u001b[39;49m\u001b[43mregisters\u001b[49m[\u001b[38;5;241m0\u001b[39m] \n\u001b[1;32m      3\u001b[0m \u001b[38;5;28mprint\u001b[39m(i,rate)\n",
      "\u001b[0;31mAttributeError\u001b[0m: 'ModbusIOException' object has no attribute 'registers'"
     ]
    }
   ],
   "source": [
    "response=mbd.read_holding_registers(0x201, 1, unit=228)  \n",
    "rate = response.registers[0] \n",
    "print(i,rate)"
   ]
  },
  {
   "cell_type": "code",
   "execution_count": 13,
   "metadata": {},
   "outputs": [
    {
     "data": {
      "text/plain": [
       "<pymodbus.register_write_message.WriteSingleRegisterResponse at 0x7f135f2941c0>"
      ]
     },
     "execution_count": 13,
     "metadata": {},
     "output_type": "execute_result"
    }
   ],
   "source": [
    "sonar_unit = 210\n",
    "mbd.write_register(0x201, 3, unit=sonar_unit)"
   ]
  },
  {
   "cell_type": "code",
   "execution_count": 6,
   "metadata": {},
   "outputs": [],
   "source": [
    "sonar_unit = [0xe6 ,0xe8 ,0xd0,0xfa,0xfe,0xea,0xe4,0xe2,0xd2,0xec ]\n",
    "for i in sonar_unit:\n",
    "    mbd.write_register(0x201, 3, unit=i)"
   ]
  },
  {
   "cell_type": "code",
   "execution_count": 4,
   "metadata": {},
   "outputs": [],
   "source": [
    "modbus_config = {\n",
    "    \"port\": \"/dev/ttyUSB0\",\n",
    "    \"baudrate\": 9600,\n",
    "    \"parity\": \"N\",\n",
    "    \"timeout\": 0.5,\n",
    "}\n",
    "mbd = ModbusDriver(**modbus_config).client"
   ]
  },
  {
   "cell_type": "code",
   "execution_count": 3,
   "metadata": {},
   "outputs": [
    {
     "name": "stdout",
     "output_type": "stream",
     "text": [
      "230 false\n",
      "232 false\n",
      "208 false\n",
      "250 9\n",
      "254 9\n",
      "234 9\n",
      "228 9\n",
      "226 9\n",
      "210 9\n",
      "236 9\n"
     ]
    }
   ],
   "source": [
    "sonar_unit = [0xe6 ,0xe8 ,0xd0,0xfa,0xfe,0xea,0xe4,0xe2,0xd2,0xec ]\n",
    "for i in sonar_unit:\n",
    "    try:\n",
    "        response=mbd.read_holding_registers(0x201, 1, unit=i)  \n",
    "        rate = response.registers[0] \n",
    "        print(i,rate)\n",
    "    except:\n",
    "        print(i,\"false\")"
   ]
  },
  {
   "cell_type": "code",
   "execution_count": 38,
   "metadata": {},
   "outputs": [
    {
     "data": {
      "text/plain": [
       "<pymodbus.register_write_message.WriteSingleRegisterResponse at 0x7f83806e74f0>"
      ]
     },
     "execution_count": 38,
     "metadata": {},
     "output_type": "execute_result"
    }
   ],
   "source": [
    "mbd.write_register(0x69, 0xB588, unit=0x50)"
   ]
  },
  {
   "cell_type": "code",
   "execution_count": null,
   "metadata": {},
   "outputs": [],
   "source": [
    "response=mbd.read_holding_registers(0x201, 1, unit=0xec)  \n",
    "rate = response.registers[0] \n",
    "print(i,rate)"
   ]
  },
  {
   "cell_type": "code",
   "execution_count": 39,
   "metadata": {},
   "outputs": [
    {
     "data": {
      "text/plain": [
       "<pymodbus.register_write_message.WriteSingleRegisterResponse at 0x7f83806bb9d0>"
      ]
     },
     "execution_count": 39,
     "metadata": {},
     "output_type": "execute_result"
    }
   ],
   "source": [
    "mbd.write_register(0x10, 0x00, unit=0x50)"
   ]
  },
  {
   "cell_type": "code",
   "execution_count": 14,
   "metadata": {},
   "outputs": [],
   "source": [
    "def get_encoder_value(reg_h, reg_l):\n",
    "    if reg_h > 2**15:\n",
    "        reg_h = 2**16 - reg_h\n",
    "    "
   ]
  },
  {
   "cell_type": "code",
   "execution_count": 40,
   "metadata": {},
   "outputs": [
    {
     "name": "stdout",
     "output_type": "stream",
     "text": [
      "[30008, 0]\n"
     ]
    }
   ],
   "source": [
    "for i in range(1000):\n",
    "    from IPython.display import clear_output\n",
    "    response = mbd.read_holding_registers(0x11, 2, unit=0x50)\n",
    "    clear_output()\n",
    "    cur = response.registers[0]\n",
    "    lo = response.registers[1]\n",
    "    print(response.registers)\n",
    "    time.sleep(0.5)"
   ]
  }
 ],
 "metadata": {
  "kernelspec": {
   "display_name": "Python 3.8.10 64-bit",
   "language": "python",
   "name": "python3"
  },
  "language_info": {
   "codemirror_mode": {
    "name": "ipython",
    "version": 3
   },
   "file_extension": ".py",
   "mimetype": "text/x-python",
   "name": "python",
   "nbconvert_exporter": "python",
   "pygments_lexer": "ipython3",
   "version": "3.8.10"
  },
  "orig_nbformat": 4,
  "vscode": {
   "interpreter": {
    "hash": "e7370f93d1d0cde622a1f8e1c04877d8463912d04d973331ad4851f04de6915a"
   }
  }
 },
 "nbformat": 4,
 "nbformat_minor": 2
}
